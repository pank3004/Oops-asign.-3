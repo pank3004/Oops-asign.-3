{
 "cells": [
  {
   "cell_type": "code",
   "execution_count": null,
   "id": "4ad4846c-0c44-484f-9327-cba5dd1c8ea5",
   "metadata": {},
   "outputs": [],
   "source": [
    "Q1. What is Abstraction in OOps? Explain with an example."
   ]
  },
  {
   "cell_type": "code",
   "execution_count": 3,
   "id": "d7ba5f7b-3028-46f5-98e9-749576ebb85f",
   "metadata": {},
   "outputs": [],
   "source": [
    "'''Abstraction is the process of hiding the internal details of an application from the outer world. Abstraction is used \n",
    "to describe things in simple terms. It's used to create a boundary between the application and the client programs.'''\n",
    "\n",
    "import abc\n",
    "class student_detail: \n",
    "    \n",
    "    @abc.abstractmethod\n",
    "    def student_name(self): \n",
    "        pass\n",
    "    \n",
    "    @abc.abstractmethod\n",
    "    def student_roll_no(self): \n",
    "        pass\n",
    "    \n",
    "    @abc.abstractmethod\n",
    "    def student_mail(self): \n",
    "        pass\n",
    "    \n",
    "    @abc.abstractmethod\n",
    "    def student_phone_no(self): \n",
    "        pass"
   ]
  },
  {
   "cell_type": "code",
   "execution_count": 3,
   "id": "8cb5f588-2f96-4855-8764-b5613e92f776",
   "metadata": {},
   "outputs": [],
   "source": [
    "class std_dtl(student_detail): \n",
    "    def student_name(self): \n",
    "        return 'panakj'\n",
    "    \n",
    "std_dtl_obj=std_dtl()\n",
    "std_dtl_obj.student_name()"
   ]
  },
  {
   "cell_type": "code",
   "execution_count": 16,
   "id": "8e7eb287-b34b-4ef1-85c1-f4d008b35be5",
   "metadata": {},
   "outputs": [
    {
     "data": {
      "text/plain": [
       "5634635365"
      ]
     },
     "execution_count": 16,
     "metadata": {},
     "output_type": "execute_result"
    }
   ],
   "source": [
    "class std_info(student_detail): \n",
    "    def student_mail(self): \n",
    "        return 'pankaj@gmail.com'\n",
    "    def student_phone_no(self):\n",
    "        return 5634635365\n",
    "    \n",
    "std_info_obj=std_info()\n",
    "std_info_obj.student_phone_no()"
   ]
  },
  {
   "cell_type": "code",
   "execution_count": 17,
   "id": "82564004-dc28-48f0-893f-47cd9cd5263d",
   "metadata": {},
   "outputs": [
    {
     "data": {
      "text/plain": [
       "'pankaj@gmail.com'"
      ]
     },
     "execution_count": 17,
     "metadata": {},
     "output_type": "execute_result"
    }
   ],
   "source": [
    "std_info_obj.student_mail()"
   ]
  },
  {
   "cell_type": "code",
   "execution_count": null,
   "id": "59243742-e588-41ef-8410-4566eb5ae98d",
   "metadata": {},
   "outputs": [],
   "source": [
    "Q2. Differentiate between Abstraction and Encapsulation. Explain with an example."
   ]
  },
  {
   "cell_type": "code",
   "execution_count": 4,
   "id": "4f7147a4-2a05-4ef3-9b60-00e6e1859454",
   "metadata": {},
   "outputs": [
    {
     "name": "stdout",
     "output_type": "stream",
     "text": [
      "Car started.\n",
      "Car accelerated.\n",
      "Car braked.\n"
     ]
    }
   ],
   "source": [
    "# Here's a code example that demonstrates the differentiation between abstraction and encapsulation in Python:\n",
    "\n",
    "# Abstraction Example\n",
    "\n",
    "import abc\n",
    "class Vehicle():\n",
    "    \n",
    "    @abc.abstractmethod\n",
    "    def start(self):\n",
    "        pass\n",
    "\n",
    "    @abc.abstractmethod\n",
    "    def accelerate(self):\n",
    "        pass\n",
    "\n",
    "    @abc.abstractmethod\n",
    "    def brake(self):\n",
    "        pass\n",
    "\n",
    "class Car(Vehicle):\n",
    "    def start(self):\n",
    "        print(\"Car started.\")\n",
    "\n",
    "    def accelerate(self):\n",
    "        print(\"Car accelerated.\")\n",
    "\n",
    "    def brake(self):\n",
    "        print(\"Car braked.\")\n",
    "\n",
    "car = Car()\n",
    "car.start()\n",
    "car.accelerate()\n",
    "car.brake()\n",
    "\n",
    "\n",
    "Certainly! Here's a code example that demonstrates the differentiation between abstraction and encapsulation in Python:\n",
    "\n",
    "python\n",
    "Copy code\n",
    "# Abstraction Example\n",
    "\n",
    "from abc import ABC, abstractmethod\n",
    "\n",
    "class Vehicle(ABC):\n",
    "    @abstractmethod\n",
    "    def start(self):\n",
    "        pass\n",
    "\n",
    "    @abstractmethod\n",
    "    def accelerate(self):\n",
    "        pass\n",
    "\n",
    "    @abstractmethod\n",
    "    def brake(self):\n",
    "        pass\n",
    "\n",
    "class Car(Vehicle):\n",
    "    def start(self):\n",
    "        print(\"Car started.\")\n",
    "\n",
    "    def accelerate(self):\n",
    "        print(\"Car accelerated.\")\n",
    "\n",
    "    def brake(self):\n",
    "        print(\"Car braked.\")\n",
    "\n",
    "car = Car()\n",
    "car.start()\n",
    "car.accelerate()\n",
    "car.brake()\n",
    "\n",
    "'''In this example, we have an abstract base class called Vehicle that defines the essential behaviors of a vehicle: \n",
    "start(),accelerate(), and brake(). The abc module is used to create an abstract class with abstract methods.\n",
    "\n",
    "The Car class inherits from the Vehicle class and provides the implementation for the abstract methods. It defines how a\n",
    "car starts, accelerates, and brakes by printing corresponding messages.\n",
    "\n",
    "By using abstraction, we can create an interface (Vehicle) that defines the essential functionalities withoutexposing \n",
    "the internal details of how each specific vehicle type (such as a car) accomplishes these tasks. The users of the \n",
    "Car class can interact with the object without needing to know the specific implementation details.'''"
   ]
  },
  {
   "cell_type": "code",
   "execution_count": null,
   "id": "238df74b-7eff-49f6-96fe-2e66e144a754",
   "metadata": {},
   "outputs": [],
   "source": [
    "# Encapsulation Example\n",
    "\n",
    "class Car:\n",
    "    def __init__(self):\n",
    "        self.__speed = 0\n",
    "\n",
    "    def get_speed(self):\n",
    "        return self.__speed\n",
    "\n",
    "    def set_speed(self, speed):\n",
    "        if speed < 0:\n",
    "            print(\"Speed cannot be negative.\")\n",
    "        else:\n",
    "            self.__speed = speed\n",
    "\n",
    "car = Car()\n",
    "car.set_speed(60)\n",
    "print(car.get_speed())\n",
    "'''In this example, we have a Car class that has a private attribute __speed. The __init__() method initializes the\n",
    "speed to zero. We provide public methods get_speed() and set_speed() to access and modify the speed attribute,\n",
    "respectively.\n",
    "\n",
    "The private attribute __speed is not directly accessible outside the class. Instead, we use the public methods to get or \n",
    "set the speed value. This ensures that the internal state of the Car object is encapsulated and can be accessed or\n",
    "modified only through the defined interface.\n",
    "\n",
    "In this way, encapsulation provides data hiding and controlled access to the internal state of an object, ensuring that\n",
    "it remains consistent and preventing unauthorized modifications.\n",
    "\n",
    "Overall, abstraction focuses on providing a simplified interface, while encapsulation involves bundling data and methods \n",
    "together, enforcing data hiding and controlled access.'''"
   ]
  },
  {
   "cell_type": "code",
   "execution_count": null,
   "id": "aa308077-1e62-47d4-a270-9eef62fca7ad",
   "metadata": {},
   "outputs": [],
   "source": [
    "Q3. What is abc module in python? Why is it used?\n",
    "\n",
    "#The abc module in Python stands for \"Abstract Base Classes.\" It provides mechanisms for defining abstract base classes and abstract methods. Abstract base classes are classes that cannot be instantiated directly but serve as blueprints for other classes. The abc module is used to enforce method implementation in derived classes, ensuring that subclasses provide concrete implementations for abstract methods. It enables polymorphism by allowing objects to be checked against an abstract base class interface. Additionally, the abc module helps in organizing code by defining common interfaces and hierarchies of classes, making class design and implementation more structured and manageable."
   ]
  },
  {
   "cell_type": "code",
   "execution_count": null,
   "id": "bc44b6b3-0fe2-427b-951f-33bb83e65306",
   "metadata": {},
   "outputs": [],
   "source": [
    "Q4. How can we achieve data abstraction?\n",
    "\n",
    "#Data abstraction can be achieved in Python through encapsulation, defining abstract base classes (ABCs) with abstract methods, utilizing inheritance and polymorphism, and designing clear and well-defined interfaces. These techniques allow us to hide implementation details and provide a simplified view for interacting with data."
   ]
  },
  {
   "cell_type": "code",
   "execution_count": null,
   "id": "384ce6e1-0ff7-420d-916c-77045216398a",
   "metadata": {},
   "outputs": [],
   "source": [
    "Q5. Can we create an instance of an abstract class? Explain your answer."
   ]
  }
 ],
 "metadata": {
  "kernelspec": {
   "display_name": "Python 3 (ipykernel)",
   "language": "python",
   "name": "python3"
  },
  "language_info": {
   "codemirror_mode": {
    "name": "ipython",
    "version": 3
   },
   "file_extension": ".py",
   "mimetype": "text/x-python",
   "name": "python",
   "nbconvert_exporter": "python",
   "pygments_lexer": "ipython3",
   "version": "3.10.8"
  }
 },
 "nbformat": 4,
 "nbformat_minor": 5
}
